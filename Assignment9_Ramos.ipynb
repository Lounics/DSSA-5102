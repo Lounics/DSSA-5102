{
 "cells": [
  {
   "cell_type": "markdown",
   "id": "f369c6ca",
   "metadata": {},
   "source": [
    "# Assignment #9 - Data Gathering and Warehousing - DSSA-5102\n",
    "\n",
    "Instructor: Melissa Laurino</br>\n",
    "Spring 2024</br>\n",
    "\n",
    "Name: Louise Ramos\n",
    "</br>\n",
    "Date: April 4, 2024\n",
    "<br>\n",
    "<br>\n",
    "**At this time in the semester:** <br>\n",
    "--We have explored a dataset. <br>\n",
    "--We have cleaned our dataset. <br>\n",
    "--We created a Github account with a repository for this class and included a Metadata file about our data. <br>\n",
    "--We introduced general and more advanced SQL syntax, queries, and applications in R.<br>\n",
    "--Created our own database from scratch in R using libraries RMariaDB and RSQLite <br>\n",
    "--Populated our databases we created from scratch\n",
    "--Created a visual enhanced entity relationship diagram for our database\n",
    "<br>\n",
    "\n",
    "At this point, we have discussed all major statements used with SQL, but the possibilities are endless when it comes to data! Below we will explore some miscellaneous statements and tools that may be useful with your database.<br>\n",
    "\n",
    "<br>\n",
    "\n",
    "Read Chapter 7 & 10 in Getting Started with SQL by Thomas Nield available on Blackboard. <br>\n",
    "A quick reference for SQL commands: https://www.w3schools.com/sql/default.asp <br>\n",
    "\n",
    "Review the powerpoint and other readings specified on Blackboard in the Discussion Board.<br>\n",
    "\n",
    "In the event your database does not meet the requirements below to answer the question, please use the database provided in Assignment #4 and #5. Remember to credit your data source.\n",
    "\n",
    "We used two R packages to create two separate databases for practice in our previous assignment. Feel free to use your preferred package for the exploration below. Now that all of our data is loaded onto the MySQL Workbench server, you can even take the assignment a step further and complete it all within SQL without Jupyter Notebook/RMD/Visual Studio Code.<br>\n",
    "\n",
    "Follow the instructions below to complete the assignment. Be sure to comment **all** code and answer **all** questions in markdown for full credit. The cells below are the minimum requirement, but exploring larger queries are encouraged.<br>\n",
    "\n",
    "**Data origin:**\n"
   ]
  },
  {
   "cell_type": "code",
   "execution_count": 132,
   "id": "209701f8",
   "metadata": {},
   "outputs": [],
   "source": [
    "# Importing libraries\n",
    "import pymysql\n",
    "import pandas as pd\n",
    "import sqlite3\n",
    "import mysql.connector"
   ]
  },
  {
   "cell_type": "code",
   "execution_count": 96,
   "id": "f61dba89",
   "metadata": {},
   "outputs": [],
   "source": [
    "# Connecting to database\n",
    "mydb = mysql.connector.connect(\n",
    "    host = 'localhost',\n",
    "    user = 'root',\n",
    "    password = '1734680nN',\n",
    "    database = 'police_shootings'\n",
    ")"
   ]
  },
  {
   "cell_type": "code",
   "execution_count": 97,
   "id": "be54d9b7",
   "metadata": {},
   "outputs": [
    {
     "name": "stdout",
     "output_type": "stream",
     "text": [
      "Tables\n",
      "AnotherTable\n",
      "Extra\n",
      "Incident\n",
      "Location\n",
      "Person\n"
     ]
    }
   ],
   "source": [
    "# Creating a cursor \n",
    "cursor = mydb.cursor()\n",
    "\n",
    "# SQL query to show table names\n",
    "query = \"SHOW TABLES\"\n",
    "\n",
    "# Running the query\n",
    "cursor.execute(query)\n",
    "tables = cursor.fetchall()\n",
    "\n",
    "# Printing the table names\n",
    "print(\"Tables\")\n",
    "for table in tables:\n",
    "    print(table[0])"
   ]
  },
  {
   "cell_type": "code",
   "execution_count": 98,
   "id": "895087b5",
   "metadata": {},
   "outputs": [
    {
     "name": "stdout",
     "output_type": "stream",
     "text": [
      "Columns in table 'Incident':\n",
      "id\n",
      "person_id\n",
      "location_id\n",
      "date\n",
      "manner_of_death\n",
      "armed\n",
      "signs_of_mental_illness\n",
      "threat_level\n",
      "flee\n",
      "body_camera\n",
      "Columns in table 'Location':\n",
      "id\n",
      "city\n",
      "state\n",
      "longitude\n",
      "latitude\n",
      "is_geocoding_exact\n",
      "Columns in table 'Person':\n",
      "id\n",
      "name\n",
      "age\n",
      "gender\n",
      "race\n"
     ]
    },
    {
     "data": {
      "text/plain": [
       "True"
      ]
     },
     "execution_count": 98,
     "metadata": {},
     "output_type": "execute_result"
    }
   ],
   "source": [
    "# Listing columns in each table\n",
    "# Creating a cursor \n",
    "cursor = mydb.cursor()\n",
    "\n",
    "# Listing table names\n",
    "table_names = ['Incident', 'Location', 'Person']\n",
    "for table_name in table_names:\n",
    "    print(f\"Columns in table '{table_name}':\")\n",
    "\n",
    "    # Retrieving column names for the current table\n",
    "    query_columns = f\"SHOW COLUMNS FROM {table_name}\"\n",
    "    cursor.execute(query_columns)\n",
    "    columns = cursor.fetchall()\n",
    "\n",
    "    # Printing the column names\n",
    "    for column in columns:\n",
    "        print(column[0])  \n",
    "\n",
    "# Closing the cursor\n",
    "cursor.close()"
   ]
  },
  {
   "cell_type": "code",
   "execution_count": 99,
   "id": "6cc2c2b3",
   "metadata": {},
   "outputs": [
    {
     "name": "stdout",
     "output_type": "stream",
     "text": [
      "\n",
      "Testing data in table 'Incident':\n",
      "(1, None, None, datetime.date(2015, 1, 2), 'shot', 'gun', 1, 'attack', 'Not fleeing', 0)\n",
      "(2, None, None, datetime.date(2015, 1, 2), 'shot', 'gun', 0, 'attack', 'Not fleeing', 0)\n",
      "(3, None, None, datetime.date(2015, 1, 3), 'shot and Tasered', 'unarmed', 0, 'other', 'Not fleeing', 0)\n",
      "(4, None, None, datetime.date(2015, 1, 4), 'shot', 'toy weapon', 1, 'attack', 'Not fleeing', 0)\n",
      "(5, None, None, datetime.date(2015, 1, 4), 'shot', 'nail gun', 0, 'attack', 'Not fleeing', 0)\n",
      "\n",
      "Testing data in table 'Location':\n",
      "(1, 'Shelton', 'WA', Decimal('-123.122000'), Decimal('47.247000'), 1)\n",
      "(2, 'Aloha', 'OR', Decimal('-122.892000'), Decimal('45.487000'), 1)\n",
      "(3, 'Wichita', 'KS', Decimal('-97.281000'), Decimal('37.695000'), 1)\n",
      "(4, 'San Francisco', 'CA', Decimal('-122.422000'), Decimal('37.763000'), 1)\n",
      "(5, 'Evans', 'CO', Decimal('-104.692000'), Decimal('40.384000'), 1)\n",
      "\n",
      "Testing data in table 'Person':\n",
      "(1, 'Tim Elliot', 53, 'M', 'A')\n",
      "(2, 'Lewis Lee Lembke', 47, 'M', 'W')\n",
      "(3, 'John Paul Quintero', 23, 'M', 'H')\n",
      "(4, 'Matthew Hoffman', 32, 'M', 'W')\n",
      "(5, 'Michael Rodriguez', 39, 'M', 'H')\n"
     ]
    },
    {
     "data": {
      "text/plain": [
       "True"
      ]
     },
     "execution_count": 99,
     "metadata": {},
     "output_type": "execute_result"
    }
   ],
   "source": [
    "# Testing to see if the tables are populated on the server\n",
    "# Creating a cursor \n",
    "cursor = mydb.cursor()\n",
    "\n",
    "# Listing the table names\n",
    "table_names = ['Incident', 'Location', 'Person']\n",
    "for table_name in table_names:\n",
    "    print(f\"\\nTesting data in table '{table_name}':\")\n",
    "\n",
    "    # Query to fetch data from the tables\n",
    "    query = f\"SELECT * FROM {table_name} LIMIT 5\"  \n",
    "    cursor.execute(query)\n",
    "    records = cursor.fetchall()\n",
    "\n",
    "    # Displaying the data\n",
    "    for record in records:\n",
    "        print(record)\n",
    "\n",
    "# Closing the cursor\n",
    "cursor.close()"
   ]
  },
  {
   "cell_type": "markdown",
   "id": "40c58ed6",
   "metadata": {},
   "source": [
    "#### CASE Statements\n",
    "Case statements are similar to the if-then-else statements in programming. The data that meets the case statements in the database will be returned. You start a CASE statement with the word CASE and conclude it with an END. Between those keywords, you specify each condition with a WHEN [condition] THEN [value], where the condition and the values are specified by you.\n",
    "\n",
    "Nield, Thomas. Getting Started with SQL (p. 71). O'Reilly Media. Kindle Edition. <br>\n",
    "<br>\n",
    "Write your question you are answering with your data query. <br>\n",
    "<br>\n",
    "**Example Question:** Seeing what incidents happened in Alaska?\n",
    "<br>\n",
    "**What tables are we joining?:** Location, Person and Incident"
   ]
  },
  {
   "cell_type": "code",
   "execution_count": 118,
   "id": "1a4ca6e9",
   "metadata": {},
   "outputs": [
    {
     "name": "stdout",
     "output_type": "stream",
     "text": [
      "No persons found involved in incidents in the state of AK\n"
     ]
    }
   ],
   "source": [
    "#Write a query that includes a CASE statement and JOIN your results between tables that answer your question.\n",
    "# Establish a connection to your MySQL database\n",
    "# Connecting to database\n",
    "host = 'localhost'\n",
    "user = 'root'\n",
    "password = '1734680nN'\n",
    "database = 'police_shootings'\n",
    "\n",
    "# Defining the state\n",
    "state_of_interest = 'AK'\n",
    "\n",
    "try:\n",
    "    # Establishing a connection to database\n",
    "    conn = pymysql.connect(host=host, user=user, password=password, database=database)\n",
    "    cursor = conn.cursor()\n",
    "\n",
    "    # SQL query to retrieve names of person involved in incidents in the specified state\n",
    "    sql_query = f\"\"\"\n",
    "        SELECT\n",
    "            P.name\n",
    "        FROM\n",
    "            Person AS P\n",
    "        JOIN\n",
    "            Incident AS I ON P.id = I.person_id\n",
    "        JOIN\n",
    "            Location AS L ON I.location_id = L.id\n",
    "        WHERE\n",
    "            L.state = '{state_of_interest}';\n",
    "    \"\"\"\n",
    "\n",
    "    # Executing the SQL query\n",
    "    cursor.execute(sql_query)\n",
    "    rows = cursor.fetchall()\n",
    "\n",
    "    # Printing the people involved \n",
    "    if rows:\n",
    "        print(f\"Persons involved in incidents in the state of {state_of_interest}:\")\n",
    "        for row in rows:\n",
    "            person_name = row[0]\n",
    "            print(person_name)\n",
    "    else:\n",
    "        print(f\"No persons found involved in incidents in the state of {state_of_interest}\")\n",
    "\n",
    "except pymysql.Error as e:\n",
    "    print(f\"Error: {e}\")"
   ]
  },
  {
   "cell_type": "markdown",
   "id": "db5bb8cc",
   "metadata": {},
   "source": [
    "**CASE STATEMENT**\n",
    "<br>\n",
    "Write a second CASE statement!\n",
    "\n",
    "Write your question you are answering with your data query. <br>\n",
    "<br>\n",
    "**Question:** Who is considered a child vs an adult?\n",
    "<br>\n",
    "**What tables are we joining?:**  Person"
   ]
  },
  {
   "cell_type": "code",
   "execution_count": 125,
   "id": "59a96b97",
   "metadata": {},
   "outputs": [
    {
     "name": "stdout",
     "output_type": "stream",
     "text": [
      "Names and age groups:\n",
      "Name: Tim Elliot, Age: 53, Age Group: Adult\n",
      "Name: Lewis Lee Lembke, Age: 47, Age Group: Adult\n",
      "Name: John Paul Quintero, Age: 23, Age Group: Adult\n",
      "Name: Matthew Hoffman, Age: 32, Age Group: Adult\n",
      "Name: Michael Rodriguez, Age: 39, Age Group: Adult\n"
     ]
    }
   ],
   "source": [
    "#Write a query that includes a CASE statement and JOIN your results between tables that answer your question.\n",
    "\n",
    "# Database connection\n",
    "host = 'localhost'\n",
    "user = 'root'\n",
    "password = '1734680nN'\n",
    "database = 'police_shootings'\n",
    "\n",
    "try:\n",
    "    # Establishing a connection\n",
    "    conn = pymysql.connect(host=host, user=user, password=password, database=database)\n",
    "    cursor = conn.cursor()\n",
    "\n",
    "    # SQL query \n",
    "    sql_query = \"\"\"\n",
    "        SELECT\n",
    "            name,\n",
    "            age,\n",
    "            CASE\n",
    "                WHEN age < 18 THEN 'Child'\n",
    "                WHEN age >= 18 AND age < 65 THEN 'Adult'\n",
    "                ELSE 'Elderly'\n",
    "            END AS age_group\n",
    "        FROM\n",
    "            Person\n",
    "            LIMIT 5;\n",
    "    \"\"\"\n",
    "\n",
    "    # Executinf the SQL query\n",
    "    cursor.execute(sql_query)\n",
    "    rows = cursor.fetchall()\n",
    "\n",
    "    # Printing the names, ages, and age groups of persons based on the CASE statement\n",
    "    if rows:\n",
    "        print(\"Names and age groups:\")\n",
    "        for row in rows:\n",
    "            person_name, person_age, age_group = row\n",
    "            print(f\"Name: {person_name}, Age: {person_age}, Age Group: {age_group}\")\n",
    "    else:\n",
    "        print(\"No persons found\")\n",
    "\n",
    "except pymysql.Error as e:\n",
    "    print(f\"Error: {e}\")\n"
   ]
  },
  {
   "cell_type": "markdown",
   "id": "f046f42d",
   "metadata": {},
   "source": [
    "**CASE STATEMENT**\n",
    "<br>\n",
    "Write a third CASE statement!\n",
    "\n",
    "Write your question you are answering with your data query. <br>\n",
    "<br>\n",
    "**Question:** Who was in WA when it happened?\n",
    "<br>\n",
    "**What tables are we joining?:** Person and Location"
   ]
  },
  {
   "cell_type": "code",
   "execution_count": 149,
   "id": "7796f416",
   "metadata": {},
   "outputs": [
    {
     "name": "stdout",
     "output_type": "stream",
     "text": [
      "Results:\n",
      "Tim Elliot, WA\n",
      "Lewis Lee Lembke, WA\n",
      "John Paul Quintero, WA\n",
      "Matthew Hoffman, WA\n",
      "Michael Rodriguez, WA\n",
      "Kenneth Joe Brown, WA\n",
      "Kenneth Arnold Buck, WA\n",
      "Brock Nichols, WA\n",
      "Autumn Steele, WA\n",
      "Leslie Sapp III, WA\n"
     ]
    }
   ],
   "source": [
    "#Write a query that includes a CASE statement and JOIN your results between tables that answer your question.\n",
    "# Database connection \n",
    "def retrieve_persons_with_age_groups(host, user, password, database):\n",
    "    try:\n",
    "        # Connecting to the database\n",
    "        conn = mysql.connector.connect(\n",
    "            host=host,\n",
    "            user=user,\n",
    "            password=password,\n",
    "            database=database\n",
    "        )\n",
    "\n",
    "        cursor = conn.cursor()\n",
    "\n",
    "        # Define the SQL query with JOIN, CASE statement for age groups and state\n",
    "        sql_query = \"\"\"\n",
    "            SELECT p.name,\n",
    "                   l.state,\n",
    "                   CASE\n",
    "                       WHEN l.state WA THEN WA\n",
    "                   END AS state,\n",
    "                   CASE\n",
    "                       WHEN l.state = 'WA' THEN 'Washington'\n",
    "                   END AS state_description\n",
    "            FROM Person p\n",
    "            JOIN Location l ON p.id = l.person_id\n",
    "        \"\"\"\n",
    "\n",
    "        # Executin the SQL query\n",
    "        cursor.execute(sql_query)\n",
    "        results = cursor.fetchall()\n",
    "\n",
    "        # Printing the results\n",
    "        if results:\n",
    "            print(\"Results:\")\n",
    "            for row in results:\n",
    "                name, age, state, age_group, state_description = row\n",
    "                print(f\"Name: {name}, Age: {age}, State: {state}, Age Group: {age_group}, State Description: {state_description}\")\n",
    "        else:\n",
    "            print(\"No results found.\")\n",
    "\n",
    "        # Closing the connection\n",
    "        conn.close()\n",
    "\n",
    "    except mysql.connector.Error as e:\n",
    "        print(\"Error:\", e)\n",
    "\n",
    "# Specifying the MySQL database connection details\n",
    "host = 'localhost'\n",
    "user = 'root'\n",
    "password = '1734680nN'\n",
    "database = 'police_shootings'"
   ]
  },
  {
   "cell_type": "markdown",
   "id": "00d2cda1",
   "metadata": {},
   "source": [
    "**NULL**\n",
    "<br>\n",
    "As with all data, NULL values are fields with no data. Null data can be useful to know with the INSERT INTO statement below.\n",
    "\n",
    "Find the NULL data within your database. Write your question you are answering with your data query. <br>\n",
    "<br>\n",
    "**Example Question:**  Which people are missing Age? (Limited to 5)\n",
    "<br>"
   ]
  },
  {
   "cell_type": "code",
   "execution_count": 59,
   "id": "0a0ad860",
   "metadata": {},
   "outputs": [
    {
     "name": "stdout",
     "output_type": "stream",
     "text": [
      "Rows with NULL age:\n",
      "(5198, 'Alejandro Salazar', None, 'M', 'H')\n",
      "(5840, 'Jason Day', None, 'M', 'B')\n",
      "(5880, 'John Tozzi', None, 'M', None)\n",
      "(5890, 'Deaunte Lamar Bell', None, 'M', 'B')\n",
      "(6003, None, None, 'M', None)\n"
     ]
    }
   ],
   "source": [
    "#Replace the Example Question with your own and query the data for your question.\n",
    "# Connecting to the database\n",
    "conn = pymysql.connect(host='localhost', user='root', password='1734680nN', database='police_shootings')\n",
    "\n",
    "# Creating a cursor object\n",
    "cursor = conn.cursor()\n",
    "\n",
    "# Executing SQL query to select rows with null age in the Person table\n",
    "query = \"SELECT * FROM Person WHERE age IS NULL LIMIT 5\"\n",
    "\n",
    "# Executing the query\n",
    "cursor.execute(query)\n",
    "rows_with_null_age = cursor.fetchall()\n",
    "\n",
    "# Printing the results\n",
    "print(\"Rows with NULL age:\")\n",
    "for row in rows_with_null_age:\n",
    "    print(row)\n"
   ]
  },
  {
   "cell_type": "markdown",
   "id": "501a12a4",
   "metadata": {},
   "source": [
    "**INSERT INTO**\n",
    "<br>\n",
    "You can insert new records into a table as needed using the INSERT INTO statement. If you choose to populate a table with certain records and not others, the rest of the fields will remain empty/NULL.\n",
    "<br>\n",
    "For INSERT INTO, we are not querying the database, instead we are ADDING to it. We do not need to use dbGetQuery(), but instead, dbExecute()!\n",
    "<br><br>\n",
    "**Objective:** Add people into the Person table\n",
    "<br>\n",
    "**What table(s) are we adding a record to?** added people into the table"
   ]
  },
  {
   "cell_type": "code",
   "execution_count": 91,
   "id": "f1f6060a",
   "metadata": {},
   "outputs": [],
   "source": [
    "#Use INSERT INTO to manually insert data. \n",
    "#Query to insert a person with id, name, gender and race\n",
    "insert = \"\"\"\n",
    "INSERT INTO Person (id, name, age, gender, race)\n",
    "VALUES \n",
    "    (2000, \"Josh\", 29, M, W),\n",
    "    (2001, \"Sarah\", 24, F, H);\"\"\"\n",
    "\n",
    "\n",
    "\n",
    "#It's okay if you do not execute your code if you do not want to add any data to your database."
   ]
  },
  {
   "cell_type": "markdown",
   "id": "47484362",
   "metadata": {},
   "source": [
    "**MIN() and MAX()**\n",
    "<br>\n",
    "You can use these statements alone or in combination with the CASE statemts above. Find the minimum and maximum of a numerical column.\n",
    "<br><br>\n",
    "**Question:** Whats the youngest and oldest age in the data?\n",
    "<br>\n",
    "**What table(s) are we analyzing?** Person"
   ]
  },
  {
   "cell_type": "code",
   "execution_count": 61,
   "id": "69432f5e",
   "metadata": {},
   "outputs": [
    {
     "name": "stdout",
     "output_type": "stream",
     "text": [
      "Minimum Age (excluding NULL): 2\n",
      "Maximum Age (excluding NULL): 92\n"
     ]
    }
   ],
   "source": [
    "#Create a simple query to find the MIN() of a value and the MAX() of a value()\n",
    "#They do not have to be in the same query yet.\n",
    "\n",
    "# Creating a cursor object\n",
    "cursor = conn.cursor()\n",
    "\n",
    "# Querying to calculate MIN and MAX of age\n",
    "query = \"\"\"\n",
    "    SELECT \n",
    "        MIN(CASE WHEN age IS NOT NULL THEN age ELSE NULL END) AS min_age,\n",
    "        MAX(CASE WHEN age IS NOT NULL THEN age ELSE NULL END) AS max_age\n",
    "    FROM \n",
    "        Person;\n",
    "\"\"\"\n",
    "\n",
    "# Executing the query\n",
    "cursor.execute(query)\n",
    "result = cursor.fetchone()\n",
    "\n",
    "# Printing the result\n",
    "print(\"Minimum Age (excluding NULL):\", result[0])\n",
    "print(\"Maximum Age (excluding NULL):\", result[1])\n",
    "\n"
   ]
  },
  {
   "cell_type": "markdown",
   "id": "ade85e27",
   "metadata": {},
   "source": [
    "Combine CASE statement with Min() and Max() for a more detailed query of your data:\n",
    "<br><br>\n",
    "**Question:** What are the minimum and maximum ages for different age groups (specifically 'Under 18' and '18-100')?\n",
    "<br>\n",
    "**What table(s) are we adding a record to?** Made new table call Extra"
   ]
  },
  {
   "cell_type": "code",
   "execution_count": 69,
   "id": "b49da6f9",
   "metadata": {},
   "outputs": [
    {
     "name": "stdout",
     "output_type": "stream",
     "text": [
      "Extra table created successfully.\n",
      "Records inserted successfully.\n"
     ]
    }
   ],
   "source": [
    "#Combine the CASE statement with MIN() and MAX() for a more detailed query of your data.\n",
    "#You can use one of the same CASE statements as above, or create a new one that relates to your MIN and MAX.\n",
    "\n",
    "try:\n",
    "    # connecting database\n",
    "    conn = pymysql.connect(host='localhost',\n",
    "                           user='root',\n",
    "                           password='1734680nN',\n",
    "                           database='police_shootings')\n",
    "\n",
    "    # Creating a cursor \n",
    "    cursor = conn.cursor()\n",
    "\n",
    "    # Creating Extra table\n",
    "    create_table_query = \"\"\"\n",
    "        CREATE TABLE IF NOT EXISTS Extra (\n",
    "            id INT AUTO_INCREMENT PRIMARY KEY,\n",
    "            age_group VARCHAR(20) NOT NULL,\n",
    "            min_age INT,\n",
    "            max_age INT\n",
    "        );\n",
    "    \"\"\"\n",
    "    cursor.execute(create_table_query)\n",
    "    print(\"Extra table created successfully.\")\n",
    "\n",
    "    # Defining SQL query \n",
    "    sql_query = \"\"\"\n",
    "        SELECT\n",
    "            MIN(CASE WHEN age < 18 THEN age END) AS min_age_under_18,\n",
    "            MAX(CASE WHEN age < 18 THEN age END) AS max_age_under_18,\n",
    "            MIN(CASE WHEN age >= 18 AND age <= 100 THEN age END) AS min_age_18_100,\n",
    "            MAX(CASE WHEN age >= 18 AND age <= 100 THEN age END) AS max_age_18_100\n",
    "        FROM\n",
    "            Person;\n",
    "    \"\"\"\n",
    "\n",
    "    # Executing the SQL query\n",
    "    cursor.execute(sql_query)\n",
    "    result = cursor.fetchone()\n",
    "\n",
    "    if result:\n",
    "        min_age_under_18 = result[0]\n",
    "        max_age_under_18 = result[1]\n",
    "        min_age_18_100 = result[2]\n",
    "        max_age_18_100 = result[3]\n",
    "\n",
    "        # Inserting records \n",
    "        if min_age_under_18 is not None and max_age_under_18 is not None:\n",
    "            insert_query = \"\"\"\n",
    "                INSERT INTO Extra (age_group, min_age, max_age)\n",
    "                VALUES ('Under 18', %s, %s);\n",
    "            \"\"\"\n",
    "            cursor.execute(insert_query, (min_age_under_18, max_age_under_18))\n",
    "\n",
    "        if min_age_18_100 is not None and max_age_18_100 is not None:\n",
    "            insert_query = \"\"\"\n",
    "                INSERT INTO Extra(age_group, min_age, max_age)\n",
    "                VALUES ('18-100', %s, %s);\n",
    "            \"\"\"\n",
    "            cursor.execute(insert_query, (min_age_18_100, max_age_18_100))\n",
    "\n",
    "        # Committing\n",
    "        conn.commit()\n",
    "        print(\"Records inserted successfully.\")\n",
    "\n",
    "    else:\n",
    "        print(\"No data found for the specified conditions.\")\n",
    "\n",
    "except pymysql.Error as e:\n",
    "    print(\"Error executing SQL query:\", e)"
   ]
  },
  {
   "cell_type": "markdown",
   "id": "4bc00737",
   "metadata": {},
   "source": [
    "**AVG**<br>\n",
    "AVG() will take the average of a numeric field.\n",
    "\n",
    "**Question:** What is the average age of the people in the data?\n",
    "<br>"
   ]
  },
  {
   "cell_type": "code",
   "execution_count": 23,
   "id": "c9b2ee4e",
   "metadata": {},
   "outputs": [
    {
     "name": "stdout",
     "output_type": "stream",
     "text": [
      "Average age: 36.9808\n"
     ]
    }
   ],
   "source": [
    "#Write a query to find the average of a numerical column.      \n",
    "\n",
    "# Executing the SQL query \n",
    "query = \"\"\"\n",
    "    SELECT AVG(age) AS age\n",
    "    FROM Person\n",
    "    WHERE age IS NOT NULL;\n",
    "\"\"\"\n",
    "\n",
    "cursor.execute(query)\n",
    "# Getting the results\n",
    "result = cursor.fetchone()\n",
    "\n",
    "# Printing the average age\n",
    "print(\"Average age:\", result[0])\n",
    "\n"
   ]
  },
  {
   "cell_type": "markdown",
   "id": "789588fc",
   "metadata": {},
   "source": [
    "Although this query gives us a quick answer, as a stand alone data frame, it is not that useful. We can add it to our longer query above."
   ]
  },
  {
   "cell_type": "code",
   "execution_count": 72,
   "id": "3f073df9",
   "metadata": {},
   "outputs": [
    {
     "name": "stdout",
     "output_type": "stream",
     "text": [
      "Age statistics for individuals under 18:\n",
      "Minimum Age: 2\n",
      "Maximum Age: 17\n",
      "Average Age: 15.9251\n",
      "\n",
      "Age statistics for individuals aged 18-100:\n",
      "Minimum Age: 18\n",
      "Maximum Age: 92\n",
      "Average Age: 37.3762\n"
     ]
    }
   ],
   "source": [
    "#Add the AVG() aggregate function to your CASE query above that includes the MIN() and MAX()\n",
    "\n",
    "try:\n",
    "    # Connecting to database\n",
    "    conn = pymysql.connect(host='localhost',\n",
    "                           user='root',\n",
    "                           password='1734680nN',\n",
    "                           database='police_shootings')\n",
    "\n",
    "    # Creating a cursor\n",
    "    cursor = conn.cursor()\n",
    "\n",
    "    # Defining the SQL query\n",
    "    sql_query = \"\"\"\n",
    "        SELECT\n",
    "            MIN(CASE WHEN age < 18 THEN age END) AS min_age_under_18,\n",
    "            MAX(CASE WHEN age < 18 THEN age END) AS max_age_under_18,\n",
    "            AVG(CASE WHEN age < 18 THEN age END) AS avg_age_under_18,\n",
    "            MIN(CASE WHEN age >= 18 AND age <= 100 THEN age END) AS min_age_18_100,\n",
    "            MAX(CASE WHEN age >= 18 AND age <= 100 THEN age END) AS max_age_18_100,\n",
    "            AVG(CASE WHEN age >= 18 AND age <= 100 THEN age END) AS avg_age_18_100\n",
    "        FROM\n",
    "            Person;\n",
    "    \"\"\"\n",
    "\n",
    "    # Executing the SQL query\n",
    "    cursor.execute(sql_query)\n",
    "    result = cursor.fetchone()\n",
    "\n",
    "    if result:\n",
    "        min_age_under_18 = result[0]\n",
    "        max_age_under_18 = result[1]\n",
    "        avg_age_under_18 = result[2]\n",
    "        min_age_18_100 = result[3]\n",
    "        max_age_18_100 = result[4]\n",
    "        avg_age_18_100 = result[5]\n",
    "\n",
    "        # Displaying the results\n",
    "        print(\"Age statistics for individuals under 18:\")\n",
    "        print(\"Minimum Age:\", min_age_under_18)\n",
    "        print(\"Maximum Age:\", max_age_under_18)\n",
    "        print(\"Average Age:\", avg_age_under_18)\n",
    "\n",
    "        print(\"\\nAge statistics for individuals aged 18-100:\")\n",
    "        print(\"Minimum Age:\", min_age_18_100)\n",
    "        print(\"Maximum Age:\", max_age_18_100)\n",
    "        print(\"Average Age:\", avg_age_18_100)\n",
    "\n",
    "    else:\n",
    "        print(\"No data found for the specified conditions.\")\n",
    "\n",
    "except pymysql.Error as e:\n",
    "    print(\"Error executing SQL query:\", e)\n",
    "\n"
   ]
  },
  {
   "cell_type": "markdown",
   "id": "3273880e",
   "metadata": {},
   "source": [
    "Now we are starting to get multiple values that we can save any time as a .csv if needed to access later."
   ]
  },
  {
   "cell_type": "code",
   "execution_count": 78,
   "id": "39cd223e",
   "metadata": {},
   "outputs": [
    {
     "name": "stdout",
     "output_type": "stream",
     "text": [
      "Age statistics saved to 'age_statistics.csv' successfully.\n"
     ]
    }
   ],
   "source": [
    "#Save your new result set as .csv file!\n",
    "import csv \n",
    "\n",
    "try:\n",
    "    # Establishing a connection \n",
    "    conn = pymysql.connect(host='localhost',\n",
    "                           user='root',\n",
    "                           password='1734680nN',\n",
    "                           database='police_shootings')\n",
    "\n",
    "    # Creating a cursor\n",
    "    cursor = conn.cursor()\n",
    "\n",
    "    # Define the SQL query to fetch age statistics\n",
    "    sql_query = \"\"\"\n",
    "        SELECT\n",
    "            MIN(CASE WHEN age < 18 THEN age END) AS min_age_under_18,\n",
    "            MAX(CASE WHEN age < 18 THEN age END) AS max_age_under_18,\n",
    "            AVG(CASE WHEN age < 18 THEN age END) AS avg_age_under_18,\n",
    "            MIN(CASE WHEN age >= 18 AND age <= 100 THEN age END) AS min_age_18_100,\n",
    "            MAX(CASE WHEN age >= 18 AND age <= 100 THEN age END) AS max_age_18_100,\n",
    "            AVG(CASE WHEN age >= 18 AND age <= 100 THEN age END) AS avg_age_18_100\n",
    "        FROM\n",
    "            Person;\n",
    "    \"\"\"\n",
    "\n",
    "    # Executing the SQL query\n",
    "    cursor.execute(sql_query)\n",
    "    result = cursor.fetchone()\n",
    "\n",
    "    if result:\n",
    "        csv_file = 'age_statistics.csv' #CSV File creation\n",
    "\n",
    "        # Writinf the query results to the CSV file\n",
    "        with open(csv_file, 'w', newline='') as file:\n",
    "            writer = csv.writer(file)\n",
    "            writer.writerow(['Statistic', 'Under 18', '18-100'])\n",
    "            writer.writerow(['Minimum Age', result[0], result[3]])\n",
    "            writer.writerow(['Maximum Age', result[1], result[4]])\n",
    "            writer.writerow(['Average Age', result[2], result[5]])\n",
    "\n",
    "        print(f\"Age statistics saved to '{csv_file}' successfully.\")\n",
    "\n",
    "    else:\n",
    "        print(\"No data found for the specified conditions.\")\n",
    "\n",
    "except pymysql.Error as e:\n",
    "    print(\"Error executing SQL query:\", e)\n"
   ]
  },
  {
   "cell_type": "markdown",
   "id": "a7e3ba5a",
   "metadata": {},
   "source": [
    "**Aliases (AS)**\n",
    "<br>\n",
    "You can abbreviate your code to make it more visually appealing...or more confusing? :) <br>\n",
    "<br>\n",
    "Examples:<br>\n",
    "FROM table_name t<br>\n",
    "FROM table_name AS t<br>\n",
    "<br>\n",
    "**Objective:** Use abbreviations or aliases for all tables for the same code you wrote above. Be sure to obtain the same result set."
   ]
  },
  {
   "cell_type": "code",
   "execution_count": 90,
   "id": "50f1c1a3",
   "metadata": {},
   "outputs": [
    {
     "name": "stdout",
     "output_type": "stream",
     "text": [
      "(1, 'Tim Elliot', 53, 'M', 'A')\n",
      "(2, 'Lewis Lee Lembke', 47, 'M', 'W')\n",
      "(3, 'John Paul Quintero', 23, 'M', 'H')\n",
      "(4, 'Matthew Hoffman', 32, 'M', 'W')\n",
      "(5, 'Michael Rodriguez', 39, 'M', 'H')\n"
     ]
    }
   ],
   "source": [
    "#Rewrite your CASE/MIN/MAX/AVG code to include aliases if you have not done so already:\n",
    "\n",
    "try:\n",
    "    # Connection to your MySQL database\n",
    "    conn = pymysql.connect(host='localhost',\n",
    "                           user='root',\n",
    "                           password='1734680nN',\n",
    "                           database='police_shootings')\n",
    "\n",
    "    # Creating a cursor \n",
    "    cursor = conn.cursor()\n",
    "\n",
    "    # Defining the SQL query with table alias\n",
    "    sql_query = \"\"\"\n",
    "        SELECT *\n",
    "        FROM Person AS p\n",
    "        LIMIT 5\n",
    "    \"\"\"\n",
    "\n",
    "    # Executing the SQL query\n",
    "    cursor.execute(sql_query)\n",
    "    rows = cursor.fetchall()\n",
    "\n",
    "    # Printing fetched rows to see if it worked\n",
    "    for row in rows:\n",
    "        print(row)\n",
    "\n",
    "except pymysql.Error as e:\n",
    "    print(f\"Error executing SQL query: {e}\")"
   ]
  },
  {
   "cell_type": "markdown",
   "id": "4f772ff9",
   "metadata": {},
   "source": [
    "**DELETE** ~Caution!~\n",
    "<br>\n",
    "You can delete all records from specific tables or set a criteria to delete certain values or NULL values without deleting the table itself. It is okay if you do not execute the code if you have completed all data cleaning steps earlier in the semester.<br>\n",
    "<br>\n",
    "If you created autoincrement IDs for any of your data, it is recommended to use TRUNCATE TABLE instead, used the same way. The ID's will automatically reset if needed.<br>\n",
    "<br>\n",
    "**Example Objective:** Delete all name data from the Person table.\n",
    "<br>\n",
    "**What table(s) are we deleting records from?** Person"
   ]
  },
  {
   "cell_type": "code",
   "execution_count": 11,
   "id": "5c796996",
   "metadata": {},
   "outputs": [],
   "source": [
    "#Replace the above info with your data. \n",
    "#You can write the code, but do not execute if you do not want to delete any of your data.\n",
    "\n",
    "# Database connection details\n",
    "host = 'localhost'\n",
    "user = 'root'\n",
    "password = '1734680nN'\n",
    "database = 'police_shootings'\n",
    "\n",
    "try:\n",
    "    # Establish a connection to the MySQL database\n",
    "    conn = pymysql.connect(host=host, user=user, password=password, database=database)\n",
    "    cursor = conn.cursor()\n",
    "\n",
    "    # Define the SQL query to delete rows from the Person table based on name\n",
    "    name_to_delete = 'John Doe'  # Specify the name to delete\n",
    "    sql_query = f\"\"\"\n",
    "        DELETE FROM Person\n",
    "        WHERE name = '{name_to_delete}';\n",
    "    \"\"\"\n",
    "\n",
    "    # Print the SQL query for debugging\n",
    "    print(f\"Executing SQL query: {sql_query}\")\n",
    "\n",
    "    # Execute the SQL query to delete rows\n",
    "    cursor.execute(sql_query)\n",
    "\n",
    "    # Commit the changes to the database\n",
    "    conn.commit()\n",
    "\n",
    "    # Print a success message\n",
    "    print(f\"Rows with name '{name_to_delete}' deleted successfully.\")\n",
    "\n",
    "except pymysql.Error as e:\n",
    "    # Handle any errors that occur during execution\n",
    "    print(f\"Error: {e}\")\n"
   ]
  },
  {
   "cell_type": "markdown",
   "id": "fccfdbce",
   "metadata": {},
   "source": [
    "We can also delete entire tables in MySQL workbench by manually right clicking on the table and DROP TABLE. <br>\n",
    "MySQL Workbench will prompt you to review the SQL syntax before dropping the table.<br>\n",
    "The syntax is simple:<br>\n",
    "DROP TABLE table_name<br>\n",
    "<br>\n",
    "We can also use dbExecute(con, DROP TABLE) from Jupyter Notebook/Rmarkdown/Visual Studio. You do not have to execute this code in this notebook if you do not want to delete a table."
   ]
  },
  {
   "cell_type": "code",
   "execution_count": 150,
   "id": "58cbf160",
   "metadata": {},
   "outputs": [],
   "source": [
    "#Close the database connection :)\n",
    "cursor.close()\n",
    "conn.close()"
   ]
  },
  {
   "cell_type": "markdown",
   "id": "0ff1d169",
   "metadata": {},
   "source": [
    "**STOP**<br>\n",
    "Before you submit, did you comment all your code?<br>\n",
    "Did you answer all of the questions in the markdown cells?<br>\n",
    "Did you rename the file and write your name at the top of the .pynb?<br>\n",
    "Attach the .csv file you created with your Blackboard submission. "
   ]
  }
 ],
 "metadata": {
  "kernelspec": {
   "display_name": "Python 3 (ipykernel)",
   "language": "python",
   "name": "python3"
  },
  "language_info": {
   "codemirror_mode": {
    "name": "ipython",
    "version": 3
   },
   "file_extension": ".py",
   "mimetype": "text/x-python",
   "name": "python",
   "nbconvert_exporter": "python",
   "pygments_lexer": "ipython3",
   "version": "3.11.5"
  }
 },
 "nbformat": 4,
 "nbformat_minor": 5
}
