{
 "cells": [
  {
   "cell_type": "markdown",
   "id": "f369c6ca",
   "metadata": {},
   "source": [
    "# Assignment #9 - Data Gathering and Warehousing - DSSA-5102\n",
    "\n",
    "Instructor: Melissa Laurino</br>\n",
    "Spring 2024</br>\n",
    "\n",
    "Name: Louise Ramos\n",
    "</br>\n",
    "Date: April 4, 2024\n",
    "<br>\n",
    "<br>\n",
    "**At this time in the semester:** <br>\n",
    "--We have explored a dataset. <br>\n",
    "--We have cleaned our dataset. <br>\n",
    "--We created a Github account with a repository for this class and included a Metadata file about our data. <br>\n",
    "--We introduced general and more advanced SQL syntax, queries, and applications in R.<br>\n",
    "--Created our own database from scratch in R using libraries RMariaDB and RSQLite <br>\n",
    "--Populated our databases we created from scratch\n",
    "--Created a visual enhanced entity relationship diagram for our database\n",
    "<br>\n",
    "\n",
    "At this point, we have discussed all major statements used with SQL, but the possibilities are endless when it comes to data! Below we will explore some miscellaneous statements and tools that may be useful with your database.<br>\n",
    "\n",
    "<br>\n",
    "\n",
    "Read Chapter 7 & 10 in Getting Started with SQL by Thomas Nield available on Blackboard. <br>\n",
    "A quick reference for SQL commands: https://www.w3schools.com/sql/default.asp <br>\n",
    "\n",
    "Review the powerpoint and other readings specified on Blackboard in the Discussion Board.<br>\n",
    "\n",
    "In the event your database does not meet the requirements below to answer the question, please use the database provided in Assignment #4 and #5. Remember to credit your data source.\n",
    "\n",
    "We used two R packages to create two separate databases for practice in our previous assignment. Feel free to use your preferred package for the exploration below. Now that all of our data is loaded onto the MySQL Workbench server, you can even take the assignment a step further and complete it all within SQL without Jupyter Notebook/RMD/Visual Studio Code.<br>\n",
    "\n",
    "Follow the instructions below to complete the assignment. Be sure to comment **all** code and answer **all** questions in markdown for full credit. The cells below are the minimum requirement, but exploring larger queries are encouraged.<br>\n",
    "\n",
    "**Data origin:**\n"
   ]
  },
  {
   "cell_type": "code",
   "execution_count": null,
   "id": "209701f8",
   "metadata": {},
   "outputs": [],
   "source": [
    "# Importing libraries\n",
    "import pymysql\n",
    "import pandas as pd\n",
    "import sqlite3\n",
    "import mysql.connector"
   ]
  },
  {
   "cell_type": "code",
   "execution_count": null,
   "id": "f61dba89",
   "metadata": {},
   "outputs": [],
   "source": [
    "# Connecting to database\n",
    "mydb = mysql.connector.connect(\n",
    "    host = 'localhost',\n",
    "    user = 'root',\n",
    "    password = 'Thissucks2020!',\n",
    "    database = 'police_shootings'\n",
    ")"
   ]
  },
  {
   "cell_type": "code",
   "execution_count": 6,
   "id": "be54d9b7",
   "metadata": {},
   "outputs": [
    {
     "name": "stdout",
     "output_type": "stream",
     "text": [
      "Tables\n",
      "Incident\n",
      "Location\n",
      "Person\n"
     ]
    }
   ],
   "source": [
    "# Creating a cursor \n",
    "cursor = mydb.cursor()\n",
    "\n",
    "# SQL query to show table names\n",
    "query = \"SHOW TABLES\"\n",
    "\n",
    "# Running the query\n",
    "cursor.execute(query)\n",
    "tables = cursor.fetchall()\n",
    "\n",
    "# Printing the table names\n",
    "print(\"Tables\")\n",
    "for table in tables:\n",
    "    print(table[0])"
   ]
  },
  {
   "cell_type": "code",
   "execution_count": 7,
   "id": "895087b5",
   "metadata": {},
   "outputs": [
    {
     "name": "stdout",
     "output_type": "stream",
     "text": [
      "Columns in table 'Incident':\n",
      "id\n",
      "person_id\n",
      "location_id\n",
      "date\n",
      "manner_of_death\n",
      "armed\n",
      "signs_of_mental_illness\n",
      "threat_level\n",
      "flee\n",
      "body_camera\n",
      "Columns in table 'Location':\n",
      "id\n",
      "city\n",
      "state\n",
      "longitude\n",
      "latitude\n",
      "is_geocoding_exact\n",
      "Columns in table 'Person':\n",
      "id\n",
      "name\n",
      "age\n",
      "gender\n",
      "race\n"
     ]
    },
    {
     "data": {
      "text/plain": [
       "True"
      ]
     },
     "execution_count": 7,
     "metadata": {},
     "output_type": "execute_result"
    }
   ],
   "source": [
    "# Listing columns in each table\n",
    "# Creating a cursor \n",
    "cursor = mydb.cursor()\n",
    "\n",
    "# Listing table names\n",
    "table_names = ['Incident', 'Location', 'Person']\n",
    "for table_name in table_names:\n",
    "    print(f\"Columns in table '{table_name}':\")\n",
    "\n",
    "    # Retrieving column names for the current table\n",
    "    query_columns = f\"SHOW COLUMNS FROM {table_name}\"\n",
    "    cursor.execute(query_columns)\n",
    "    columns = cursor.fetchall()\n",
    "\n",
    "    # Printing the column names\n",
    "    for column in columns:\n",
    "        print(column[0])  \n",
    "\n",
    "# Closing the cursor\n",
    "cursor.close()"
   ]
  },
  {
   "cell_type": "code",
   "execution_count": 8,
   "id": "6cc2c2b3",
   "metadata": {},
   "outputs": [
    {
     "name": "stdout",
     "output_type": "stream",
     "text": [
      "\n",
      "Testing data in table 'Incident':\n",
      "\n",
      "Testing data in table 'Location':\n",
      "\n",
      "Testing data in table 'Person':\n"
     ]
    },
    {
     "data": {
      "text/plain": [
       "True"
      ]
     },
     "execution_count": 8,
     "metadata": {},
     "output_type": "execute_result"
    }
   ],
   "source": [
    "# Testing to see if the tables are populated on the server\n",
    "# Creating a cursor \n",
    "cursor = mydb.cursor()\n",
    "\n",
    "# Listing the table names\n",
    "table_names = ['Incident', 'Location', 'Person']\n",
    "for table_name in table_names:\n",
    "    print(f\"\\nTesting data in table '{table_name}':\")\n",
    "\n",
    "    # Query to fetch data from the tables\n",
    "    query = f\"SELECT * FROM {table_name} LIMIT 5\"  \n",
    "    cursor.execute(query)\n",
    "    records = cursor.fetchall()\n",
    "\n",
    "    # Displaying the data\n",
    "    for record in records:\n",
    "        print(record)\n",
    "\n",
    "# Closing the cursor\n",
    "cursor.close()"
   ]
  },
  {
   "cell_type": "markdown",
   "id": "40c58ed6",
   "metadata": {},
   "source": [
    "#### CASE Statements\n",
    "Case statements are similar to the if-then-else statements in programming. The data that meets the case statements in the database will be returned. You start a CASE statement with the word CASE and conclude it with an END. Between those keywords, you specify each condition with a WHEN [condition] THEN [value], where the condition and the values are specified by you.\n",
    "\n",
    "Nield, Thomas. Getting Started with SQL (p. 71). O'Reilly Media. Kindle Edition. <br>\n",
    "<br>\n",
    "Write your question you are answering with your data query. <br>\n",
    "<br>\n",
    "**Example Question:** What species of sea turtles were observed when the sea surface temperature was above 60 degrees (warm) and below 60 degrees (cold)?\n",
    "<br>\n",
    "**What tables are we joining?:** species and water_variables"
   ]
  },
  {
   "cell_type": "code",
   "execution_count": null,
   "id": "1a4ca6e9",
   "metadata": {},
   "outputs": [],
   "source": [
    "#Write a query that includes a CASE statement and JOIN your results between tables that answer your question.\n",
    "#Remove the example question and insert yours."
   ]
  },
  {
   "cell_type": "markdown",
   "id": "db5bb8cc",
   "metadata": {},
   "source": [
    "**CASE STATEMENT**\n",
    "<br>\n",
    "Write a second CASE statement!\n",
    "\n",
    "Write your question you are answering with your data query. <br>\n",
    "<br>\n",
    "**Question:** \n",
    "<br>\n",
    "**What tables are we joining?:** "
   ]
  },
  {
   "cell_type": "code",
   "execution_count": null,
   "id": "59a96b97",
   "metadata": {},
   "outputs": [],
   "source": [
    "#Write a query that includes a CASE statement and JOIN your results between tables that answer your question.\n",
    "\n",
    "\n",
    "\n"
   ]
  },
  {
   "cell_type": "markdown",
   "id": "f046f42d",
   "metadata": {},
   "source": [
    "**CASE STATEMENT**\n",
    "<br>\n",
    "Write a third CASE statement!\n",
    "\n",
    "Write your question you are answering with your data query. <br>\n",
    "<br>\n",
    "**Question:** \n",
    "<br>\n",
    "**What tables are we joining?:** "
   ]
  },
  {
   "cell_type": "code",
   "execution_count": null,
   "id": "7796f416",
   "metadata": {},
   "outputs": [],
   "source": [
    "#Write a query that includes a CASE statement and JOIN your results between tables that answer your question.\n",
    "\n",
    "\n",
    "\n",
    "\n"
   ]
  },
  {
   "cell_type": "markdown",
   "id": "00d2cda1",
   "metadata": {},
   "source": [
    "**NULL**\n",
    "<br>\n",
    "As with all data, NULL values are fields with no data. Null data can be useful to know with the INSERT INTO statement below.\n",
    "\n",
    "Find the NULL data within your database. Write your question you are answering with your data query. <br>\n",
    "<br>\n",
    "**Example Question:**  Which people are missing Age? (Limited to 5)\n",
    "<br>"
   ]
  },
  {
   "cell_type": "code",
   "execution_count": null,
   "id": "0a0ad860",
   "metadata": {},
   "outputs": [],
   "source": [
    "#Replace the Example Question with your own and query the data for your question.\n",
    "# Connecting to the database\n",
    "conn = pymysql.connect(host='localhost', user='root', password='1734680nN', database='police_shootings')\n",
    "\n",
    "# Creating a cursor object\n",
    "cursor = conn.cursor()\n",
    "\n",
    "# Executing SQL query to select rows with null age in the Person table\n",
    "query = \"SELECT * FROM Person WHERE age IS NULL LIMIT 5\"\n",
    "\n",
    "# Executing the query\n",
    "cursor.execute(query)\n",
    "rows_with_null_age = cursor.fetchall()\n",
    "\n",
    "# Printing the results\n",
    "print(\"Rows with NULL age:\")\n",
    "for row in rows_with_null_age:\n",
    "    print(row)\n"
   ]
  },
  {
   "cell_type": "markdown",
   "id": "501a12a4",
   "metadata": {},
   "source": [
    "**INSERT INTO**\n",
    "<br>\n",
    "You can insert new records into a table as needed using the INSERT INTO statement. If you choose to populate a table with certain records and not others, the rest of the fields will remain empty/NULL.\n",
    "<br>\n",
    "For INSERT INTO, we are not querying the database, instead we are ADDING to it. We do not need to use dbGetQuery(), but instead, dbExecute()!\n",
    "<br><br>\n",
    "**Objective:** Add the crew members of a future date to the database\n",
    "<br>\n",
    "**What table(s) are we adding a record to?** crew"
   ]
  },
  {
   "cell_type": "code",
   "execution_count": null,
   "id": "f1f6060a",
   "metadata": {},
   "outputs": [],
   "source": [
    "#Use INSERT INTO to manually insert data. \n",
    "insert = \"\"\"\n",
    "INSERT INTO Person (id, name, age, gender, race)\n",
    "VALUES \n",
    "\t(2000, \"Josh\", 29, M, W),\n",
    "    (2001, \"Lou\", 24, F, H);\"\"\"\n",
    "\n",
    "\n",
    "\n",
    "#It's okay if you do not execute your code if you do not want to add any data to your database."
   ]
  },
  {
   "cell_type": "markdown",
   "id": "47484362",
   "metadata": {},
   "source": [
    "**MIN() and MAX()**\n",
    "<br>\n",
    "You can use these statements alone or in combination with the CASE statemts above. Find the minimum and maximum of a numerical column.\n",
    "<br><br>\n",
    "**Question:** Whats the youngest and oldest age in the data?\n",
    "<br>\n",
    "**What table(s) are we analyzing?** Person"
   ]
  },
  {
   "cell_type": "code",
   "execution_count": null,
   "id": "69432f5e",
   "metadata": {},
   "outputs": [],
   "source": [
    "#Create a simple query to find the MIN() of a value and the MAX() of a value()\n",
    "#They do not have to be in the same query yet.\n",
    "\n",
    "# Creating a cursor object\n",
    "cursor = conn.cursor()\n",
    "\n",
    "# Querying to calculate MIN and MAX of age\n",
    "query = \"\"\"\n",
    "    SELECT \n",
    "        MIN(CASE WHEN age IS NOT NULL THEN age ELSE NULL END) AS min_age,\n",
    "        MAX(CASE WHEN age IS NOT NULL THEN age ELSE NULL END) AS max_age\n",
    "    FROM \n",
    "        Person;\n",
    "\"\"\"\n",
    "\n",
    "# Executing the query\n",
    "cursor.execute(query)\n",
    "result = cursor.fetchone()\n",
    "\n",
    "# Printing the result\n",
    "print(\"Minimum Age (excluding NULL):\", result[0])\n",
    "print(\"Maximum Age (excluding NULL):\", result[1])\n",
    "\n"
   ]
  },
  {
   "cell_type": "markdown",
   "id": "ade85e27",
   "metadata": {},
   "source": [
    "Combine CASE statement with Min() and Max() for a more detailed query of your data:\n",
    "<br><br>\n",
    "**Question:** What were the names of the youngest person and oldest person who were shot in the states of New Jersey or Washington?\n",
    "<br>"
   ]
  },
  {
   "cell_type": "code",
   "execution_count": null,
   "id": "b49da6f9",
   "metadata": {},
   "outputs": [],
   "source": [
    "#Combine the CASE statement with MIN() and MAX() for a more detailed query of your data.\n",
    "#You can use one of the same CASE statements as above, or create a new one that relates to your MIN and MAX.\n",
    "\n",
    "# Select the youngest person and oldest person murdered in either New Jersey or Washington\n",
    "case_query = \"\"\"SELECT  *\n",
    "        FROM    police_shootings.Person p\n",
    "        JOIN police_shootings.Locations l\n",
    "            ON p.id = l.id\n",
    "        SELECT \n",
    "                (CASE WHEN state IN ('WA', 'NJ') and MIN(age) THEN name END) as youngest\n",
    "                (CASE WHEN state IN ('WA', 'NJ') and MAX (age) THEN name END) as oldest\n",
    "\"\"\"\n",
    "\n",
    "# Executing the query\n",
    "cursor.execute(case_query)\n",
    "people_results = cursor.fetchone()\n",
    "\n",
    "# Printing the result\n",
    "print(\"Youngest victim in either Washington or New Jersey:\", result[0])\n",
    "print(\"Oldest victim in either Washington or New Jersey:\", result[1])\n"
   ]
  },
  {
   "cell_type": "markdown",
   "id": "4bc00737",
   "metadata": {},
   "source": [
    "**AVG**<br>\n",
    "AVG() will take the average of a numeric field.\n",
    "\n",
    "**Question:** What is the average age of the people in the data?\n",
    "<br>"
   ]
  },
  {
   "cell_type": "code",
   "execution_count": null,
   "id": "c9b2ee4e",
   "metadata": {},
   "outputs": [],
   "source": [
    "#Write a query to find the average of a numerical column.      \n",
    "\n",
    "# Executing the SQL query \n",
    "query = \"\"\"\n",
    "    SELECT AVG(age) AS age\n",
    "    FROM Person\n",
    "    WHERE age IS NOT NULL;\n",
    "\"\"\"\n",
    "\n",
    "cursor.execute(query)\n",
    "# Getting the results\n",
    "result = cursor.fetchone()\n",
    "\n",
    "# Printing the average age\n",
    "print(\"Average age:\", result[0])\n",
    "\n"
   ]
  },
  {
   "cell_type": "markdown",
   "id": "789588fc",
   "metadata": {},
   "source": [
    "Although this query gives us a quick answer, as a stand alone data frame, it is not that useful. We can add it to our longer query above."
   ]
  },
  {
   "cell_type": "code",
   "execution_count": null,
   "id": "3f073df9",
   "metadata": {},
   "outputs": [],
   "source": [
    "#Add the AVG() aggregate function to your CASE query above that includes the MIN() and MAX()\n",
    "\n",
    "# Getting the average age of people who died in Florida\n",
    "avg_query = \"\"\"SELECT  *\n",
    "        FROM    police_shootings.Person p\n",
    "        JOIN police_shootings.Locations l\n",
    "            ON p.id = l.id\n",
    "        SELECT \n",
    "                (CASE WHEN state=FL THEN AVG(age) END) as average_fl\n",
    "\"\"\"\n",
    "\n",
    "cursor.execute(avg_query)\n",
    "# Getting the results\n",
    "avg_result = cursor.fetchone()\n",
    "\n",
    "# Printing the average age\n",
    "print(\"Average age of victims in Florida:\", result[0])\n",
    "\n"
   ]
  },
  {
   "cell_type": "markdown",
   "id": "3273880e",
   "metadata": {},
   "source": [
    "Now we are starting to get multiple values that we can save any time as a .csv if needed to access later."
   ]
  },
  {
   "cell_type": "code",
   "execution_count": null,
   "id": "39cd223e",
   "metadata": {},
   "outputs": [],
   "source": [
    "# Save your new result set as .csv file!\n",
    "\n",
    "\n",
    "\n"
   ]
  },
  {
   "cell_type": "markdown",
   "id": "a7e3ba5a",
   "metadata": {},
   "source": [
    "**Aliases (AS)**\n",
    "<br>\n",
    "You can abbreviate your code to make it more visually appealing...or more confusing? :) <br>\n",
    "<br>\n",
    "Examples:<br>\n",
    "FROM table_name t<br>\n",
    "FROM table_name AS t<br>\n",
    "<br>\n",
    "**Objective:** Use abbreviations or aliases for all tables for the same code you wrote above. Be sure to obtain the same result set."
   ]
  },
  {
   "cell_type": "code",
   "execution_count": null,
   "id": "50f1c1a3",
   "metadata": {},
   "outputs": [],
   "source": [
    "#Rewrite your CASE/MIN/MAX/AVG code to include aliases if you have not done so already:\n",
    "\n",
    "avg_query = \"\"\"SELECT  *\n",
    "        FROM    police_shootings.Person p\n",
    "        JOIN police_shootings.Locations l\n",
    "            ON p.id = l.id\n",
    "        SELECT \n",
    "                (CASE WHEN state=FL THEN AVG(age) END) as average_fl\n",
    "\"\"\"\n",
    "\n",
    "cursor.execute(avg_query)\n",
    "# Getting the results\n",
    "avg_result = cursor.fetchone()\n",
    "\n",
    "# Printing the average age\n",
    "print(\"Average age of victims in Florida:\", result[0])\n",
    "\n",
    "\n",
    "\n",
    "\n",
    "\n"
   ]
  },
  {
   "cell_type": "markdown",
   "id": "4f772ff9",
   "metadata": {},
   "source": [
    "**DELETE** ~Caution!~\n",
    "<br>\n",
    "You can delete all records from specific tables or set a criteria to delete certain values or NULL values without deleting the table itself. It is okay if you do not execute the code if you have completed all data cleaning steps earlier in the semester.<br>\n",
    "<br>\n",
    "If you created autoincrement IDs for any of your data, it is recommended to use TRUNCATE TABLE instead, used the same way. The ID's will automatically reset if needed.<br>\n",
    "<br>\n",
    "**Example Objective:** Delete all data from the Incident Table where manner_of_death is NULL.\n",
    "<br>\n",
    "**What table(s) are we deleting records from?** Incident"
   ]
  },
  {
   "cell_type": "code",
   "execution_count": null,
   "id": "5c796996",
   "metadata": {},
   "outputs": [],
   "source": [
    "#Replace the above info with your data. \n",
    "#You can write the code, but do not execute if you do not want to delete any of your data.\n",
    "\n",
    "# DELETE FROM Incident WHERE manner_of_death IS NULL\n",
    "\n",
    "\n",
    "\n",
    "\n",
    "\n"
   ]
  },
  {
   "cell_type": "markdown",
   "id": "fccfdbce",
   "metadata": {},
   "source": [
    "We can also delete entire tables in MySQL workbench by manually right clicking on the table and DROP TABLE. <br>\n",
    "MySQL Workbench will prompt you to review the SQL syntax before dropping the table.<br>\n",
    "The syntax is simple:<br>\n",
    "DROP TABLE table_name<br>\n",
    "<br>\n",
    "We can also use dbExecute(con, DROP TABLE) from Jupyter Notebook/Rmarkdown/Visual Studio. You do not have to execute this code in this notebook if you do not want to delete a table."
   ]
  },
  {
   "cell_type": "code",
   "execution_count": null,
   "id": "58cbf160",
   "metadata": {},
   "outputs": [],
   "source": [
    "#Close the database connection :)\n",
    "mydb.close()"
   ]
  },
  {
   "cell_type": "markdown",
   "id": "0ff1d169",
   "metadata": {},
   "source": [
    "**STOP**<br>\n",
    "Before you submit, did you comment all your code?<br>\n",
    "Did you answer all of the questions in the markdown cells?<br>\n",
    "Did you rename the file and write your name at the top of the .pynb?<br>\n",
    "Attach the .csv file you created with your Blackboard submission. "
   ]
  },
  {
   "cell_type": "code",
   "execution_count": null,
   "id": "8b831e07",
   "metadata": {},
   "outputs": [],
   "source": []
  }
 ],
 "metadata": {
  "kernelspec": {
   "display_name": "Python 3 (ipykernel)",
   "language": "python",
   "name": "python3"
  },
  "language_info": {
   "codemirror_mode": {
    "name": "ipython",
    "version": 3
   },
   "file_extension": ".py",
   "mimetype": "text/x-python",
   "name": "python",
   "nbconvert_exporter": "python",
   "pygments_lexer": "ipython3",
   "version": "3.11.4"
  }
 },
 "nbformat": 4,
 "nbformat_minor": 5
}
