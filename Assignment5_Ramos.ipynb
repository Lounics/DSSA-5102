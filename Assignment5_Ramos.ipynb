{
 "cells": [
  {
   "cell_type": "markdown",
   "id": "76827fdb",
   "metadata": {},
   "source": [
    "# Assignment #5 - Data Gathering and Warehousing - DSSA-5102\n",
    "\n",
    "Instructor: Melissa Laurino</br>\n",
    "Spring 2024</br>\n",
    "\n",
    "Name:Louise Ramos\n",
    "</br>\n",
    "Date: February 29, 2024\n",
    "<br>\n",
    "<br>\n",
    "<b>Only Murders in the...Database?</b><br>\n",
    "An introduction to navigating SQL databases using R and Jupyter Notebook. <br>\n",
    "<br>\n",
    "Congrats! You have solved the murder from Assignment #4, let's practice more queries in SQL City! <br>\n",
    "<br>\n",
    "Your task for <b>Assignment #5</b> is to complete the following objectives:<br>\n",
    "<b>--</b>You are a data scientist that was hired by SQL City. Your objectives are as follows:<br>\n",
    "<b>---</b>Objective 1: The town is willing to fund more training for officers in SQL City based on the type of crime that is most committed. The training would help them identify the clues that indicate these two types upon arrival on a crime scene. As a data scientist, what crime type would you advise needs more training for officers in SQL city? What crime was committed the most in SQL City within the database date range? Save your query as a dataframe and quickly add a ggplot2 bar graph visual to support your recommendation.<br>\n",
    "<b>--</b>Objective 2: The town has also received more funding to encourage DOUBLE overtime for officers in SQL City during the month with the highest crime rate through out the date range of the database. What month would you advise the town to encourage officer overtime? <br>\n",
    "<b>--</b>Objective 3: To thank the officers for their extra training and overtime, the town will pay for their monthly gym membership. They want to give the officers the membership that the least amount of civilians have to avoid being recognized daily as the town heros. The membership can be used in any town. What membership does the town give them?<br><br>\n",
    "<b>--</b>Add detailed comments to explain EVERY query or SQL command you use while we are still learning and practicing. I have my steps outlined, but please add more cells inbetween for additional queries! There is no limit on the number of queries you can use. <br>\n",
    "<b>--</b>For each query include comments such as \"SELECT all records FROM table WHERE column name = X\"<br>\n",
    "<b>--</b>Answer any prompts in markdown cells.<br>\n",
    "\n",
    "Recommended Readings: Chapters 4-7 in Getting Started with SQL by Thomas Nield<br><br>\n",
    "\n",
    "Basic usage of database commands in R with SQLite library: https://rsqlite.r-dbi.org/\n",
    "SQL Dictionary: https://www.w3schools.com/sql/sql_ref_join.asp\n",
    "\n",
    "This fabulous database was created by @NUKnightLab on Github and can be found here: https://github.com/NUKnightLab/sql-mysteries\n"
   ]
  },
  {
   "cell_type": "code",
   "execution_count": 52,
   "id": "5e4ae281",
   "metadata": {},
   "outputs": [],
   "source": [
    "#Importing libraries\n",
    "\n",
    "import sqlite3\n",
    "import pandas as pd\n",
    "import matplotlib.pyplot as plt\n",
    "import calendar\n",
    "from datetime import datetime"
   ]
  },
  {
   "cell_type": "code",
   "execution_count": 44,
   "id": "89bc8e32",
   "metadata": {},
   "outputs": [],
   "source": [
    "#Connecting to the database\n",
    "conn = sqlite3.connect('sql-murder-mystery.db')\n",
    "\n",
    "cursor = conn.cursor() #Creating a cursor "
   ]
  },
  {
   "cell_type": "code",
   "execution_count": 33,
   "id": "3850f72a",
   "metadata": {},
   "outputs": [
    {
     "name": "stdout",
     "output_type": "stream",
     "text": [
      "crime_scene_report\n",
      "['date', 'type', 'description', 'city']\n",
      "\n",
      "drivers_license\n",
      "['id', 'age', 'height', 'eye_color', 'hair_color', 'gender', 'plate_number', 'car_make', 'car_model']\n",
      "\n",
      "facebook_event_checkin\n",
      "['person_id', 'event_id', 'event_name', 'date']\n",
      "\n",
      "get_fit_now_check_in\n",
      "['membership_id', 'check_in_date', 'check_in_time', 'check_out_time']\n",
      "\n",
      "get_fit_now_member\n",
      "['id', 'person_id', 'name', 'membership_start_date', 'membership_status']\n",
      "\n",
      "income\n",
      "['ssn', 'annual_income']\n",
      "\n",
      "interview\n",
      "['person_id', 'transcript']\n",
      "\n",
      "person\n",
      "['id', 'name', 'license_id', 'address_number', 'address_street_name', 'ssn']\n",
      "\n",
      "solution\n",
      "['user', 'value']\n",
      "\n"
     ]
    }
   ],
   "source": [
    "# Getting column names\n",
    "def get_column_names(table_name, cursor):\n",
    "    cursor.execute(f\"PRAGMA table_info({table_name})\")\n",
    "    columns = cursor.fetchall()\n",
    "    column_names = [column[1] for column in columns]\n",
    "    return column_names\n",
    "\n",
    "# Displaying column names for each table\n",
    "tables = [\n",
    "    'crime_scene_report',\n",
    "    'drivers_license',\n",
    "    'facebook_event_checkin',\n",
    "    'get_fit_now_check_in',\n",
    "    'get_fit_now_member',\n",
    "    'income',\n",
    "    'interview',\n",
    "    'person',\n",
    "    'solution'\n",
    "]\n",
    "\n",
    "for table in tables:\n",
    "    print(table)\n",
    "    column_names = get_column_names(table, cursor)\n",
    "    print(column_names)\n",
    "    print()"
   ]
  },
  {
   "cell_type": "markdown",
   "id": "25e53d9b",
   "metadata": {},
   "source": [
    "We can use the COUNT command to explore our queries further. COUNT will count the number of records that meet the specified criteria.\n",
    "Additional examples using COUNT: https://www.w3schools.com/sql/sql_count.asp"
   ]
  },
  {
   "cell_type": "code",
   "execution_count": 34,
   "id": "20476b98",
   "metadata": {},
   "outputs": [
    {
     "data": {
      "text/html": [
       "<div>\n",
       "<style scoped>\n",
       "    .dataframe tbody tr th:only-of-type {\n",
       "        vertical-align: middle;\n",
       "    }\n",
       "\n",
       "    .dataframe tbody tr th {\n",
       "        vertical-align: top;\n",
       "    }\n",
       "\n",
       "    .dataframe thead th {\n",
       "        text-align: right;\n",
       "    }\n",
       "</style>\n",
       "<table border=\"1\" class=\"dataframe\">\n",
       "  <thead>\n",
       "    <tr style=\"text-align: right;\">\n",
       "      <th></th>\n",
       "      <th>type</th>\n",
       "      <th>count</th>\n",
       "    </tr>\n",
       "  </thead>\n",
       "  <tbody>\n",
       "    <tr>\n",
       "      <th>0</th>\n",
       "      <td>murder</td>\n",
       "      <td>9</td>\n",
       "    </tr>\n",
       "    <tr>\n",
       "      <th>1</th>\n",
       "      <td>murder</td>\n",
       "      <td>9</td>\n",
       "    </tr>\n",
       "    <tr>\n",
       "      <th>2</th>\n",
       "      <td>smuggling</td>\n",
       "      <td>8</td>\n",
       "    </tr>\n",
       "    <tr>\n",
       "      <th>3</th>\n",
       "      <td>assault</td>\n",
       "      <td>8</td>\n",
       "    </tr>\n",
       "    <tr>\n",
       "      <th>4</th>\n",
       "      <td>murder</td>\n",
       "      <td>8</td>\n",
       "    </tr>\n",
       "    <tr>\n",
       "      <th>5</th>\n",
       "      <td>arson</td>\n",
       "      <td>8</td>\n",
       "    </tr>\n",
       "    <tr>\n",
       "      <th>6</th>\n",
       "      <td>arson</td>\n",
       "      <td>7</td>\n",
       "    </tr>\n",
       "    <tr>\n",
       "      <th>7</th>\n",
       "      <td>murder</td>\n",
       "      <td>7</td>\n",
       "    </tr>\n",
       "    <tr>\n",
       "      <th>8</th>\n",
       "      <td>murder</td>\n",
       "      <td>7</td>\n",
       "    </tr>\n",
       "    <tr>\n",
       "      <th>9</th>\n",
       "      <td>assault</td>\n",
       "      <td>7</td>\n",
       "    </tr>\n",
       "  </tbody>\n",
       "</table>\n",
       "</div>"
      ],
      "text/plain": [
       "        type  count\n",
       "0     murder      9\n",
       "1     murder      9\n",
       "2  smuggling      8\n",
       "3    assault      8\n",
       "4     murder      8\n",
       "5      arson      8\n",
       "6      arson      7\n",
       "7     murder      7\n",
       "8     murder      7\n",
       "9    assault      7"
      ]
     },
     "execution_count": 34,
     "metadata": {},
     "output_type": "execute_result"
    }
   ],
   "source": [
    " #Looking for the top ten cities with the most crimes \n",
    "query_top_cities = \"\"\"\n",
    "SELECT type, COUNT(*) as count\n",
    "FROM crime_scene_report\n",
    "GROUP BY city\n",
    "ORDER BY count DESC\n",
    "LIMIT 10;\n",
    "\"\"\"\n",
    "\n",
    "# Execute the query and fetch the result into a pandas DataFrame\n",
    "top_cities_result = pd.read_sql_query(query_top_cities, conn)\n",
    "\n",
    "# Display the result\n",
    "top_cities_result"
   ]
  },
  {
   "cell_type": "markdown",
   "id": "93702940",
   "metadata": {},
   "source": [
    "<b>Objective 1:</b> The town is willing to fund more training for officers in SQL City based on the type of crime that is most committed. The training would help them identify the clues that indicate these two types upon arrival on a crime scene. As a data scientist, what crime type would you advise needs more training for officers in SQL city? What crime was committed the most in SQL City within the database date range? Save your query as a dataframe and quickly add a ggplot2 bar graph visual to support your recommendation."
   ]
  },
  {
   "cell_type": "code",
   "execution_count": 35,
   "id": "2079946e",
   "metadata": {},
   "outputs": [
    {
     "name": "stdout",
     "output_type": "stream",
     "text": [
      "      type  count\n",
      "0    arson      1\n",
      "1  assault      2\n",
      "2  bribery      1\n",
      "3   murder      3\n",
      "4  robbery      1\n",
      "5    theft      1\n"
     ]
    },
    {
     "data": {
      "text/plain": [
       "Text(0.5, 1.0, 'Crimes in SQL City')"
      ]
     },
     "execution_count": 35,
     "metadata": {},
     "output_type": "execute_result"
    },
    {
     "data": {
      "image/png": "[encoded data removed]",
      "text/plain": [
       "<Figure size 640x480 with 1 Axes>"
      ]
     },
     "metadata": {},
     "output_type": "display_data"
    }
   ],
   "source": [
    "# Querying for COUNT of crimes in SQL City\n",
    "query_count_crimes = \"\"\"\n",
    "SELECT type, COUNT(*) as count\n",
    "FROM crime_scene_report\n",
    "WHERE city = 'SQL City'\n",
    "GROUP BY type\n",
    "\"\"\"\n",
    "\n",
    "# Execute the query and fetch the result into a pandas DataFrame\n",
    "most_crimes_in_sql = pd.read_sql_query(query_count_crimes, conn)\n",
    "\n",
    "# Show Result\n",
    "print(most_crimes_in_sql)\n",
    "\n",
    "# The crime committed most in SQL City was murder with 3 incidents and the second most committed crime was assault with 2 incidents.\n",
    "\n",
    "# Plot for a visual for objective 1 using matplotlib:\n",
    "plt.bar(most_crimes_in_sql[\"type\"], most_crimes_in_sql[\"count\"])\n",
    "plt.ylabel('Occurences')\n",
    "plt.title('Crimes in SQL City')"
   ]
  },
  {
   "cell_type": "markdown",
   "id": "a8007ef0",
   "metadata": {},
   "source": [
    "Answer: Murder"
   ]
  },
  {
   "cell_type": "markdown",
   "id": "f8df6bf8",
   "metadata": {},
   "source": [
    "<b>Objective 2:</b> The town has also received more funding to encourage DOUBLE overtime for officers in SQL City during the month with the highest crime rate through out the date range of the database. What month would you advise the town to encourage officer overtime?"
   ]
  },
  {
   "cell_type": "code",
   "execution_count": 54,
   "id": "02dcba2e",
   "metadata": {},
   "outputs": [
    {
     "name": "stdout",
     "output_type": "stream",
     "text": [
      "        date     type                                        description  \\\n",
      "0 2018-02-15   murder                         REDACTED REDACTED REDACTED   \n",
      "1 2018-02-15   murder  Someone killed the guard! He took an arrow to ...   \n",
      "2 2017-07-12    theft  A lone hunter stalks the night, firing arrows ...   \n",
      "3 2017-08-20    arson  Wield the Hammer of Sol with honor, Titan, it ...   \n",
      "4 2017-11-10  robbery  The Gjallarhorn shoulder-mounted rocket system...   \n",
      "5 2018-01-03  bribery  Apparently, Cayde thought it necessary to expo...   \n",
      "6 2018-01-15  assault  Hamilton: Lee, do you yield? Burr: You shot hi...   \n",
      "7 2018-01-15  assault                                   Report Not Found   \n",
      "8 2018-01-15   murder  Security footage shows that there were 2 witne...   \n",
      "\n",
      "       city  \n",
      "0  SQL City  \n",
      "1  SQL City  \n",
      "2  SQL City  \n",
      "3  SQL City  \n",
      "4  SQL City  \n",
      "5  SQL City  \n",
      "6  SQL City  \n",
      "7  SQL City  \n",
      "8  SQL City  \n",
      "The most crimes are committed in the month of January.\n"
     ]
    }
   ],
   "source": [
    "# Querying ALL FROM crime_scene_report WHERE city = \"SQL City\"\n",
    "query_most_crimes_month = \"\"\"\n",
    "SELECT *\n",
    "FROM crime_scene_report\n",
    "WHERE city = 'SQL City'\n",
    "\"\"\"\n",
    "\n",
    "# Execute the query and fetch the result into a pandas DataFrame\n",
    "most_crimes_month = pd.read_sql_query(query_most_crimes_month, conn)\n",
    "# Casting column to datetime\n",
    "most_crimes_month[\"date\"] = most_crimes_month[\"date\"].apply(str)\n",
    "most_crimes_month[\"date\"] = pd.to_datetime(most_crimes_month[\"date\"])\n",
    "# Getting most common month from date column\n",
    "highest_month_num = most_crimes_month[\"date\"].dt.month.mode()[0]\n",
    "# Converting month number to name\n",
    "highest_month = calendar.month_name[highest_month_num]\n",
    "\n",
    "\n",
    "# Show results\n",
    "print(most_crimes_month)\n",
    "print(f\"The most crimes are committed in the month of {highest_month}.\")\n",
    "\n"
   ]
  },
  {
   "cell_type": "markdown",
   "id": "b5524834",
   "metadata": {},
   "source": [
    "Answer: The most crimes are committed in January (Month 1)"
   ]
  },
  {
   "cell_type": "markdown",
   "id": "51313b07",
   "metadata": {},
   "source": [
    "<b>Objective 3:</b> To thank the officers for their extra training and overtime, the town will pay for their monthly gym membership. They want to give the officers the membership that the least amount of civilians have to avoid being recognized daily as the town heros. The membership can be used in any town. What membership does the town give them?"
   ]
  },
  {
   "cell_type": "code",
   "execution_count": 37,
   "id": "317f86a1",
   "metadata": {},
   "outputs": [
    {
     "data": {
      "text/html": [
       "<div>\n",
       "<style scoped>\n",
       "    .dataframe tbody tr th:only-of-type {\n",
       "        vertical-align: middle;\n",
       "    }\n",
       "\n",
       "    .dataframe tbody tr th {\n",
       "        vertical-align: top;\n",
       "    }\n",
       "\n",
       "    .dataframe thead th {\n",
       "        text-align: right;\n",
       "    }\n",
       "</style>\n",
       "<table border=\"1\" class=\"dataframe\">\n",
       "  <thead>\n",
       "    <tr style=\"text-align: right;\">\n",
       "      <th></th>\n",
       "      <th>membership_status</th>\n",
       "      <th>count</th>\n",
       "    </tr>\n",
       "  </thead>\n",
       "  <tbody>\n",
       "    <tr>\n",
       "      <th>0</th>\n",
       "      <td>gold</td>\n",
       "      <td>68</td>\n",
       "    </tr>\n",
       "    <tr>\n",
       "      <th>1</th>\n",
       "      <td>regular</td>\n",
       "      <td>53</td>\n",
       "    </tr>\n",
       "    <tr>\n",
       "      <th>2</th>\n",
       "      <td>silver</td>\n",
       "      <td>63</td>\n",
       "    </tr>\n",
       "  </tbody>\n",
       "</table>\n",
       "</div>"
      ],
      "text/plain": [
       "  membership_status  count\n",
       "0              gold     68\n",
       "1           regular     53\n",
       "2            silver     63"
      ]
     },
     "execution_count": 37,
     "metadata": {},
     "output_type": "execute_result"
    }
   ],
   "source": [
    "# Querying for gyms\n",
    "query_gym_members = \"\"\"\n",
    "SELECT membership_status, COUNT(*) as count\n",
    "FROM get_fit_now_member\n",
    "GROUP BY membership_status\n",
    "\"\"\"\n",
    "\n",
    "# Execute the query and fetch the result into a pandas DataFrame\n",
    "gym_members = pd.read_sql_query(query_gym_members, conn)\n",
    "\n",
    "# Show resulting DataFrame\n",
    "gym_members\n",
    "\n",
    "\n"
   ]
  },
  {
   "cell_type": "markdown",
   "id": "d3519f15",
   "metadata": {},
   "source": [
    "Answer: The town would give them the regular gym membership."
   ]
  },
  {
   "cell_type": "code",
   "execution_count": 38,
   "id": "68e82785",
   "metadata": {},
   "outputs": [],
   "source": [
    "#Disconnect from the database. Always remember to disconnect :) \n",
    "conn.close()\n"
   ]
  }
 ],
 "metadata": {
  "kernelspec": {
   "display_name": "Python 3 (ipykernel)",
   "language": "python",
   "name": "python3"
  },
  "language_info": {
   "codemirror_mode": {
    "name": "ipython",
    "version": 3
   },
   "file_extension": ".py",
   "mimetype": "text/x-python",
   "name": "python",
   "nbconvert_exporter": "python",
   "pygments_lexer": "ipython3",
   "version": "3.11.4"
  }
 },
 "nbformat": 4,
 "nbformat_minor": 5
}
